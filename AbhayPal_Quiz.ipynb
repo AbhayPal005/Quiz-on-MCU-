{
  "nbformat": 4,
  "nbformat_minor": 0,
  "metadata": {
    "colab": {
      "name": "Untitled11.ipynb",
      "provenance": []
    },
    "kernelspec": {
      "name": "python3",
      "display_name": "Python 3"
    },
    "language_info": {
      "name": "python"
    }
  },
  "cells": [
    {
      "cell_type": "code",
      "metadata": {
        "colab": {
          "base_uri": "https://localhost:8080/"
        },
        "id": "ynocCKZCmwX2",
        "outputId": "ababcece-4434-4496-c3fc-0c2727495bc5"
      },
      "source": [
        "quiz={\n",
        "    \"Who has directed the most MCU movies?\":\"Russo Brothers\",\n",
        "    \" What is Captain America’s shield made of?\":\"Vibranium\",\n",
        "    \"What is the name of Thor’s hammer?\":\"Mjolnir\",\n",
        "    \"Which avenger is green in colour :\":\"Hulk\",\n",
        "    \"What is the real name of the Black Panther?\":\"Tchalla\",\n",
        "    \"How many Infinity Stones are there?\":\"6\"\n",
        "}\n",
        "\n",
        "score=0\n",
        "for i in quiz:\n",
        "  print(i)\n",
        "  ans=input()\n",
        "  if quiz[i].lower()==ans.lower():\n",
        "    print(\"Correct\")\n",
        "    if True:\n",
        "      score+=1  \n",
        "  else:\n",
        "    print(\"Incorrect\")\n",
        "    \n",
        "\n",
        "print(\"Score of the player is :\",score)      \n"
      ],
      "execution_count": 2,
      "outputs": [
        {
          "output_type": "stream",
          "text": [
            "Who has directed the most MCU movies?\n",
            "Russo Brothers\n",
            "Correct\n",
            " What is Captain America’s shield made of?\n",
            "Vibranium\n",
            "Correct\n",
            "What is the name of Thor’s hammer?\n",
            "Mjolnir\n",
            "Correct\n",
            "Which avenger is green in colour :\n",
            "Tchalla\n",
            "Incorrect\n",
            "What is the real name of the Black Panther?\n",
            "5\n",
            "Incorrect\n",
            "How many Infinity Stones are there?\n",
            "6\n",
            "Correct\n",
            "Score of the player is : 4\n"
          ],
          "name": "stdout"
        }
      ]
    }
  ]
}